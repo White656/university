{
 "cells": [
  {
   "metadata": {},
   "cell_type": "code",
   "outputs": [],
   "execution_count": null,
   "source": [
    "import pandas as pd\n",
    "import matplotlib.pyplot as plt\n",
    "plt.style.use('ggplot')  \n",
    "plt.rcParams['figure.figsize'] = (10, 5)"
   ],
   "id": "6578e132fb358819"
  },
  {
   "metadata": {},
   "cell_type": "code",
   "source": [
    "complaints = pd.read_csv('university /data/311-service-requests.csv')\n",
    "complaints[:5]"
   ],
   "id": "de5a85986cd85dd8",
   "outputs": [],
   "execution_count": null
  },
  {
   "metadata": {},
   "cell_type": "code",
   "source": "complaints['Complaint Type'][:5]",
   "id": "1120d40c95687c5f",
   "outputs": [],
   "execution_count": null
  },
  {
   "metadata": {},
   "cell_type": "code",
   "source": "complaints[:5]['Complaint Type']",
   "id": "6fdf2525a189b932",
   "outputs": [],
   "execution_count": null
  },
  {
   "metadata": {},
   "cell_type": "code",
   "source": "complaints[['Complaint Type', 'Borough']]",
   "id": "b8881e972ebc6c43",
   "outputs": [],
   "execution_count": null
  },
  {
   "metadata": {},
   "cell_type": "code",
   "source": "complaints[['Complaint Type', 'Borough']][:10]",
   "id": "29f7ee11d3257512",
   "outputs": [],
   "execution_count": null
  },
  {
   "metadata": {},
   "cell_type": "code",
   "source": "complaints['Complaint Type'].value_counts()",
   "id": "4bb0e5ae71cf356c",
   "outputs": [],
   "execution_count": null
  },
  {
   "metadata": {},
   "cell_type": "code",
   "source": [
    "complaint_counts = complaints['Complaint Type'].value_counts()\n",
    "complaint_counts[:10]"
   ],
   "id": "d2a2c47bdcfc609f",
   "outputs": [],
   "execution_count": null
  },
  {
   "metadata": {},
   "cell_type": "code",
   "source": "complaint_counts[:10].plot(kind='bar')",
   "id": "be008131f5f2f5c5",
   "outputs": [],
   "execution_count": null
  },
  {
   "metadata": {},
   "cell_type": "code",
   "source": "",
   "id": "f14629b38d3dbadc",
   "outputs": [],
   "execution_count": null
  }
 ],
 "metadata": {
  "kernelspec": {
   "display_name": "Python 3",
   "language": "python",
   "name": "python3"
  },
  "language_info": {
   "codemirror_mode": {
    "name": "ipython",
    "version": 2
   },
   "file_extension": ".py",
   "mimetype": "text/x-python",
   "name": "python",
   "nbconvert_exporter": "python",
   "pygments_lexer": "ipython2",
   "version": "2.7.6"
  }
 },
 "nbformat": 4,
 "nbformat_minor": 5
}
