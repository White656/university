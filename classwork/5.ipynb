{
 "cells": [
  {
   "cell_type": "code",
   "id": "initial_id",
   "metadata": {
    "collapsed": true,
    "ExecuteTime": {
     "end_time": "2024-09-07T09:18:40.736118Z",
     "start_time": "2024-09-07T09:18:40.003599Z"
    }
   },
   "source": [
    "import pandas as pd\n",
    "import matplotlib.pyplot as plt \n",
    "import numpy as np\n",
    "pd.options.display.max_rows = 7 \n",
    "plt.style.use('ggplot')\n",
    "plt.rcParams['figure.figsize'] = (15, 3) \n",
    "plt.rcParams['font.family'] = 'sans-serif'"
   ],
   "outputs": [],
   "execution_count": 3
  },
  {
   "metadata": {
    "ExecuteTime": {
     "end_time": "2024-09-07T09:19:35.891694Z",
     "start_time": "2024-09-07T09:19:35.858452Z"
    }
   },
   "cell_type": "code",
   "source": [
    "weather_2012 = pd.read_csv('university /data/weather_2012.csv', parse_dates=True, index_col='Date/Time (LST)')\n",
    "weather_2012[:5]"
   ],
   "id": "dc1452e8b535b3d0",
   "outputs": [
    {
     "data": {
      "text/plain": [
       "                     Longitude (x)  Latitude (y)  \\\n",
       "Date/Time (LST)                                    \n",
       "2012-03-01 00:00:00         -73.75         45.47   \n",
       "2012-03-01 01:00:00         -73.75         45.47   \n",
       "2012-03-01 02:00:00         -73.75         45.47   \n",
       "2012-03-01 03:00:00         -73.75         45.47   \n",
       "2012-03-01 04:00:00         -73.75         45.47   \n",
       "\n",
       "                                               Station Name  Climate ID  Year  \\\n",
       "Date/Time (LST)                                                                 \n",
       "2012-03-01 00:00:00  MONTREAL/PIERRE ELLIOTT TRUDEAU INTL A     7025250  2012   \n",
       "2012-03-01 01:00:00  MONTREAL/PIERRE ELLIOTT TRUDEAU INTL A     7025250  2012   \n",
       "2012-03-01 02:00:00  MONTREAL/PIERRE ELLIOTT TRUDEAU INTL A     7025250  2012   \n",
       "2012-03-01 03:00:00  MONTREAL/PIERRE ELLIOTT TRUDEAU INTL A     7025250  2012   \n",
       "2012-03-01 04:00:00  MONTREAL/PIERRE ELLIOTT TRUDEAU INTL A     7025250  2012   \n",
       "\n",
       "                     Month  Day Time (LST)  Temp (°C)  Temp Flag  ...  \\\n",
       "Date/Time (LST)                                                   ...   \n",
       "2012-03-01 00:00:00      3    1      00:00       -5.5        NaN  ...   \n",
       "2012-03-01 01:00:00      3    1      01:00       -5.7        NaN  ...   \n",
       "2012-03-01 02:00:00      3    1      02:00       -5.4        NaN  ...   \n",
       "2012-03-01 03:00:00      3    1      03:00       -4.7        NaN  ...   \n",
       "2012-03-01 04:00:00      3    1      04:00       -5.4        NaN  ...   \n",
       "\n",
       "                     Wind Spd Flag  Visibility (km)  Visibility Flag  \\\n",
       "Date/Time (LST)                                                        \n",
       "2012-03-01 00:00:00            NaN              4.0              NaN   \n",
       "2012-03-01 01:00:00            NaN              2.4              NaN   \n",
       "2012-03-01 02:00:00            NaN              4.8              NaN   \n",
       "2012-03-01 03:00:00            NaN              4.0              NaN   \n",
       "2012-03-01 04:00:00            NaN              1.6              NaN   \n",
       "\n",
       "                     Stn Press (kPa)  Stn Press Flag  Hmdx  Hmdx Flag  \\\n",
       "Date/Time (LST)                                                         \n",
       "2012-03-01 00:00:00           100.97             NaN   NaN        NaN   \n",
       "2012-03-01 01:00:00           100.87             NaN   NaN        NaN   \n",
       "2012-03-01 02:00:00           100.80             NaN   NaN        NaN   \n",
       "2012-03-01 03:00:00           100.69             NaN   NaN        NaN   \n",
       "2012-03-01 04:00:00           100.62             NaN   NaN        NaN   \n",
       "\n",
       "                     Wind Chill  Wind Chill Flag Weather  \n",
       "Date/Time (LST)                                           \n",
       "2012-03-01 00:00:00       -13.0              NaN    Snow  \n",
       "2012-03-01 01:00:00       -13.0              NaN    Snow  \n",
       "2012-03-01 02:00:00       -13.0              NaN    Snow  \n",
       "2012-03-01 03:00:00       -12.0              NaN    Snow  \n",
       "2012-03-01 04:00:00       -14.0              NaN    Snow  \n",
       "\n",
       "[5 rows x 29 columns]"
      ],
      "text/html": [
       "<div>\n",
       "<style scoped>\n",
       "    .dataframe tbody tr th:only-of-type {\n",
       "        vertical-align: middle;\n",
       "    }\n",
       "\n",
       "    .dataframe tbody tr th {\n",
       "        vertical-align: top;\n",
       "    }\n",
       "\n",
       "    .dataframe thead th {\n",
       "        text-align: right;\n",
       "    }\n",
       "</style>\n",
       "<table border=\"1\" class=\"dataframe\">\n",
       "  <thead>\n",
       "    <tr style=\"text-align: right;\">\n",
       "      <th></th>\n",
       "      <th>Longitude (x)</th>\n",
       "      <th>Latitude (y)</th>\n",
       "      <th>Station Name</th>\n",
       "      <th>Climate ID</th>\n",
       "      <th>Year</th>\n",
       "      <th>Month</th>\n",
       "      <th>Day</th>\n",
       "      <th>Time (LST)</th>\n",
       "      <th>Temp (°C)</th>\n",
       "      <th>Temp Flag</th>\n",
       "      <th>...</th>\n",
       "      <th>Wind Spd Flag</th>\n",
       "      <th>Visibility (km)</th>\n",
       "      <th>Visibility Flag</th>\n",
       "      <th>Stn Press (kPa)</th>\n",
       "      <th>Stn Press Flag</th>\n",
       "      <th>Hmdx</th>\n",
       "      <th>Hmdx Flag</th>\n",
       "      <th>Wind Chill</th>\n",
       "      <th>Wind Chill Flag</th>\n",
       "      <th>Weather</th>\n",
       "    </tr>\n",
       "    <tr>\n",
       "      <th>Date/Time (LST)</th>\n",
       "      <th></th>\n",
       "      <th></th>\n",
       "      <th></th>\n",
       "      <th></th>\n",
       "      <th></th>\n",
       "      <th></th>\n",
       "      <th></th>\n",
       "      <th></th>\n",
       "      <th></th>\n",
       "      <th></th>\n",
       "      <th></th>\n",
       "      <th></th>\n",
       "      <th></th>\n",
       "      <th></th>\n",
       "      <th></th>\n",
       "      <th></th>\n",
       "      <th></th>\n",
       "      <th></th>\n",
       "      <th></th>\n",
       "      <th></th>\n",
       "      <th></th>\n",
       "    </tr>\n",
       "  </thead>\n",
       "  <tbody>\n",
       "    <tr>\n",
       "      <th>2012-03-01 00:00:00</th>\n",
       "      <td>-73.75</td>\n",
       "      <td>45.47</td>\n",
       "      <td>MONTREAL/PIERRE ELLIOTT TRUDEAU INTL A</td>\n",
       "      <td>7025250</td>\n",
       "      <td>2012</td>\n",
       "      <td>3</td>\n",
       "      <td>1</td>\n",
       "      <td>00:00</td>\n",
       "      <td>-5.5</td>\n",
       "      <td>NaN</td>\n",
       "      <td>...</td>\n",
       "      <td>NaN</td>\n",
       "      <td>4.0</td>\n",
       "      <td>NaN</td>\n",
       "      <td>100.97</td>\n",
       "      <td>NaN</td>\n",
       "      <td>NaN</td>\n",
       "      <td>NaN</td>\n",
       "      <td>-13.0</td>\n",
       "      <td>NaN</td>\n",
       "      <td>Snow</td>\n",
       "    </tr>\n",
       "    <tr>\n",
       "      <th>2012-03-01 01:00:00</th>\n",
       "      <td>-73.75</td>\n",
       "      <td>45.47</td>\n",
       "      <td>MONTREAL/PIERRE ELLIOTT TRUDEAU INTL A</td>\n",
       "      <td>7025250</td>\n",
       "      <td>2012</td>\n",
       "      <td>3</td>\n",
       "      <td>1</td>\n",
       "      <td>01:00</td>\n",
       "      <td>-5.7</td>\n",
       "      <td>NaN</td>\n",
       "      <td>...</td>\n",
       "      <td>NaN</td>\n",
       "      <td>2.4</td>\n",
       "      <td>NaN</td>\n",
       "      <td>100.87</td>\n",
       "      <td>NaN</td>\n",
       "      <td>NaN</td>\n",
       "      <td>NaN</td>\n",
       "      <td>-13.0</td>\n",
       "      <td>NaN</td>\n",
       "      <td>Snow</td>\n",
       "    </tr>\n",
       "    <tr>\n",
       "      <th>2012-03-01 02:00:00</th>\n",
       "      <td>-73.75</td>\n",
       "      <td>45.47</td>\n",
       "      <td>MONTREAL/PIERRE ELLIOTT TRUDEAU INTL A</td>\n",
       "      <td>7025250</td>\n",
       "      <td>2012</td>\n",
       "      <td>3</td>\n",
       "      <td>1</td>\n",
       "      <td>02:00</td>\n",
       "      <td>-5.4</td>\n",
       "      <td>NaN</td>\n",
       "      <td>...</td>\n",
       "      <td>NaN</td>\n",
       "      <td>4.8</td>\n",
       "      <td>NaN</td>\n",
       "      <td>100.80</td>\n",
       "      <td>NaN</td>\n",
       "      <td>NaN</td>\n",
       "      <td>NaN</td>\n",
       "      <td>-13.0</td>\n",
       "      <td>NaN</td>\n",
       "      <td>Snow</td>\n",
       "    </tr>\n",
       "    <tr>\n",
       "      <th>2012-03-01 03:00:00</th>\n",
       "      <td>-73.75</td>\n",
       "      <td>45.47</td>\n",
       "      <td>MONTREAL/PIERRE ELLIOTT TRUDEAU INTL A</td>\n",
       "      <td>7025250</td>\n",
       "      <td>2012</td>\n",
       "      <td>3</td>\n",
       "      <td>1</td>\n",
       "      <td>03:00</td>\n",
       "      <td>-4.7</td>\n",
       "      <td>NaN</td>\n",
       "      <td>...</td>\n",
       "      <td>NaN</td>\n",
       "      <td>4.0</td>\n",
       "      <td>NaN</td>\n",
       "      <td>100.69</td>\n",
       "      <td>NaN</td>\n",
       "      <td>NaN</td>\n",
       "      <td>NaN</td>\n",
       "      <td>-12.0</td>\n",
       "      <td>NaN</td>\n",
       "      <td>Snow</td>\n",
       "    </tr>\n",
       "    <tr>\n",
       "      <th>2012-03-01 04:00:00</th>\n",
       "      <td>-73.75</td>\n",
       "      <td>45.47</td>\n",
       "      <td>MONTREAL/PIERRE ELLIOTT TRUDEAU INTL A</td>\n",
       "      <td>7025250</td>\n",
       "      <td>2012</td>\n",
       "      <td>3</td>\n",
       "      <td>1</td>\n",
       "      <td>04:00</td>\n",
       "      <td>-5.4</td>\n",
       "      <td>NaN</td>\n",
       "      <td>...</td>\n",
       "      <td>NaN</td>\n",
       "      <td>1.6</td>\n",
       "      <td>NaN</td>\n",
       "      <td>100.62</td>\n",
       "      <td>NaN</td>\n",
       "      <td>NaN</td>\n",
       "      <td>NaN</td>\n",
       "      <td>-14.0</td>\n",
       "      <td>NaN</td>\n",
       "      <td>Snow</td>\n",
       "    </tr>\n",
       "  </tbody>\n",
       "</table>\n",
       "<p>5 rows × 29 columns</p>\n",
       "</div>"
      ]
     },
     "execution_count": 6,
     "metadata": {},
     "output_type": "execute_result"
    }
   ],
   "execution_count": 6
  },
  {
   "metadata": {
    "ExecuteTime": {
     "end_time": "2024-09-07T09:19:52.271026Z",
     "start_time": "2024-09-07T09:19:52.266263Z"
    }
   },
   "cell_type": "code",
   "source": [
    "weather_description = weather_2012['Weather']\n",
    "is_snowing = weather_description.str.contains('Snow')"
   ],
   "id": "b2959f4d67ec5bf3",
   "outputs": [],
   "execution_count": 7
  },
  {
   "metadata": {
    "ExecuteTime": {
     "end_time": "2024-09-07T09:21:34.100176Z",
     "start_time": "2024-09-07T09:21:34.094036Z"
    }
   },
   "cell_type": "code",
   "source": "is_snowing[:5]",
   "id": "1b5f346ac2e0242e",
   "outputs": [
    {
     "data": {
      "text/plain": [
       "Date/Time (LST)\n",
       "2012-03-01 00:00:00    True\n",
       "2012-03-01 01:00:00    True\n",
       "2012-03-01 02:00:00    True\n",
       "2012-03-01 03:00:00    True\n",
       "2012-03-01 04:00:00    True\n",
       "Name: Weather, dtype: bool"
      ]
     },
     "execution_count": 11,
     "metadata": {},
     "output_type": "execute_result"
    }
   ],
   "execution_count": 11
  },
  {
   "metadata": {
    "ExecuteTime": {
     "end_time": "2024-09-07T09:34:35.426785Z",
     "start_time": "2024-09-07T09:34:35.352306Z"
    }
   },
   "cell_type": "code",
   "source": "weather_2012['Temp (°C)'].resample('ME').median().plot(kind='bar')",
   "id": "2da3e8b026e8d6f9",
   "outputs": [
    {
     "data": {
      "text/plain": [
       "<Axes: xlabel='Date/Time (LST)'>"
      ]
     },
     "execution_count": 28,
     "metadata": {},
     "output_type": "execute_result"
    },
    {
     "data": {
      "text/plain": [
       "<Figure size 1500x300 with 1 Axes>"
      ],
      "image/png": "[encoded data removed]"
     },
     "metadata": {},
     "output_type": "display_data"
    }
   ],
   "execution_count": 28
  },
  {
   "metadata": {
    "ExecuteTime": {
     "end_time": "2024-09-07T09:34:46.512917Z",
     "start_time": "2024-09-07T09:34:46.508804Z"
    }
   },
   "cell_type": "code",
   "source": "is_snowing.astype(int)[:10]",
   "id": "57d5b84afd1052f0",
   "outputs": [
    {
     "data": {
      "text/plain": [
       "Date/Time (LST)\n",
       "2012-03-01 00:00:00    1\n",
       "2012-03-01 01:00:00    1\n",
       "2012-03-01 02:00:00    1\n",
       "                      ..\n",
       "2012-03-01 07:00:00    1\n",
       "2012-03-01 08:00:00    1\n",
       "2012-03-01 09:00:00    1\n",
       "Name: Weather, Length: 10, dtype: int64"
      ]
     },
     "execution_count": 29,
     "metadata": {},
     "output_type": "execute_result"
    }
   ],
   "execution_count": 29
  },
  {
   "metadata": {
    "ExecuteTime": {
     "end_time": "2024-09-07T09:35:01.130439Z",
     "start_time": "2024-09-07T09:35:01.123138Z"
    }
   },
   "cell_type": "code",
   "source": "is_snowing.astype(int).resample('ME').mean()",
   "id": "5bdcb67e3a89f2c9",
   "outputs": [
    {
     "data": {
      "text/plain": [
       "Date/Time (LST)\n",
       "2012-03-31    0.087366\n",
       "Freq: ME, Name: Weather, dtype: float64"
      ]
     },
     "execution_count": 31,
     "metadata": {},
     "output_type": "execute_result"
    }
   ],
   "execution_count": 31
  },
  {
   "metadata": {
    "ExecuteTime": {
     "end_time": "2024-09-07T09:36:43.505370Z",
     "start_time": "2024-09-07T09:36:43.494218Z"
    }
   },
   "cell_type": "code",
   "source": [
    "temperature = weather_2012['Temp (°C)'].resample('ME').median() \n",
    "is_snowing = weather_2012['Weather'].str.contains('Snow') \n",
    "snowiness = is_snowing.astype(int).resample('ME').mean()\n",
    "# Name the columns\n",
    "temperature.name = \"Temperature\" \n",
    "snowiness.name = \"Snowiness\"\n",
    "\n",
    "stats = pd.concat([temperature, snowiness], axis=1)\n",
    "stats"
   ],
   "id": "967f9994c23ba9f5",
   "outputs": [
    {
     "data": {
      "text/plain": [
       "                 Temperature  Snowiness\n",
       "Date/Time (LST)                        \n",
       "2012-03-31               2.6   0.087366"
      ],
      "text/html": [
       "<div>\n",
       "<style scoped>\n",
       "    .dataframe tbody tr th:only-of-type {\n",
       "        vertical-align: middle;\n",
       "    }\n",
       "\n",
       "    .dataframe tbody tr th {\n",
       "        vertical-align: top;\n",
       "    }\n",
       "\n",
       "    .dataframe thead th {\n",
       "        text-align: right;\n",
       "    }\n",
       "</style>\n",
       "<table border=\"1\" class=\"dataframe\">\n",
       "  <thead>\n",
       "    <tr style=\"text-align: right;\">\n",
       "      <th></th>\n",
       "      <th>Temperature</th>\n",
       "      <th>Snowiness</th>\n",
       "    </tr>\n",
       "    <tr>\n",
       "      <th>Date/Time (LST)</th>\n",
       "      <th></th>\n",
       "      <th></th>\n",
       "    </tr>\n",
       "  </thead>\n",
       "  <tbody>\n",
       "    <tr>\n",
       "      <th>2012-03-31</th>\n",
       "      <td>2.6</td>\n",
       "      <td>0.087366</td>\n",
       "    </tr>\n",
       "  </tbody>\n",
       "</table>\n",
       "</div>"
      ]
     },
     "execution_count": 35,
     "metadata": {},
     "output_type": "execute_result"
    }
   ],
   "execution_count": 35
  },
  {
   "metadata": {
    "ExecuteTime": {
     "end_time": "2024-09-07T09:37:13.292060Z",
     "start_time": "2024-09-07T09:37:13.211816Z"
    }
   },
   "cell_type": "code",
   "source": "stats.plot(kind='bar')",
   "id": "54f42eed0d2eae98",
   "outputs": [
    {
     "data": {
      "text/plain": [
       "<Axes: xlabel='Date/Time (LST)'>"
      ]
     },
     "execution_count": 36,
     "metadata": {},
     "output_type": "execute_result"
    },
    {
     "data": {
      "text/plain": [
       "<Figure size 1500x300 with 1 Axes>"
      ],
      "image/png": "[encoded data removed]"
     },
     "metadata": {},
     "output_type": "display_data"
    }
   ],
   "execution_count": 36
  },
  {
   "metadata": {
    "ExecuteTime": {
     "end_time": "2024-09-07T09:37:26.350400Z",
     "start_time": "2024-09-07T09:37:26.187558Z"
    }
   },
   "cell_type": "code",
   "source": "stats.plot(kind='bar', subplots=True, figsize=(15, 10))",
   "id": "4432bdc8a5c5738a",
   "outputs": [
    {
     "data": {
      "text/plain": [
       "array([<Axes: title={'center': 'Temperature'}, xlabel='Date/Time (LST)'>,\n",
       "       <Axes: title={'center': 'Snowiness'}, xlabel='Date/Time (LST)'>],\n",
       "      dtype=object)"
      ]
     },
     "execution_count": 37,
     "metadata": {},
     "output_type": "execute_result"
    },
    {
     "data": {
      "text/plain": [
       "<Figure size 1500x1000 with 2 Axes>"
      ],
      "image/png": "[encoded data removed]"
     },
     "metadata": {},
     "output_type": "display_data"
    }
   ],
   "execution_count": 37
  },
  {
   "metadata": {},
   "cell_type": "code",
   "outputs": [],
   "execution_count": null,
   "source": "",
   "id": "e47513aa5daec7e"
  }
 ],
 "metadata": {
  "kernelspec": {
   "display_name": "Python 3",
   "language": "python",
   "name": "python3"
  },
  "language_info": {
   "codemirror_mode": {
    "name": "ipython",
    "version": 2
   },
   "file_extension": ".py",
   "mimetype": "text/x-python",
   "name": "python",
   "nbconvert_exporter": "python",
   "pygments_lexer": "ipython2",
   "version": "2.7.6"
  }
 },
 "nbformat": 4,
 "nbformat_minor": 5
}
