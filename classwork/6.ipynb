{
 "cells": [
  {
   "metadata": {},
   "cell_type": "code",
   "outputs": [],
   "execution_count": 1,
   "source": [
    "import pandas as pd\n",
    "import matplotlib.pyplot as plt\n",
    "import numpy as np\n",
    "pd.options.display.max_rows = 7 \n",
    "plt.style.use('ggplot') \n",
    "plt.rcParams['figure.figsize'] = (15, 3) \n",
    "plt.rcParams['font.family'] = 'sans-serif'"
   ],
   "id": "c20a399ff78df9cd"
  },
  {
   "metadata": {
    "ExecuteTime": {
     "end_time": "2024-09-07T09:38:34.632754Z",
     "start_time": "2024-09-07T09:38:34.503229Z"
    }
   },
   "cell_type": "code",
   "source": "requests['Incident Zip'].unique()",
   "id": "71ea83393aa2f174",
   "outputs": [
    {
     "ename": "NameError",
     "evalue": "name 'requests' is not defined",
     "output_type": "error",
     "traceback": [
      "\u001B[0;31m---------------------------------------------------------------------------\u001B[0m",
      "\u001B[0;31mNameError\u001B[0m                                 Traceback (most recent call last)",
      "Cell \u001B[0;32mIn[2], line 1\u001B[0m\n\u001B[0;32m----> 1\u001B[0m \u001B[43mrequests\u001B[49m[\u001B[38;5;124m'\u001B[39m\u001B[38;5;124mIncident Zip\u001B[39m\u001B[38;5;124m'\u001B[39m]\u001B[38;5;241m.\u001B[39munique()\n",
      "\u001B[0;31mNameError\u001B[0m: name 'requests' is not defined"
     ]
    }
   ],
   "execution_count": 2
  },
  {
   "metadata": {},
   "cell_type": "code",
   "outputs": [],
   "execution_count": null,
   "source": [
    "na_values = ['NO CLUE', 'N/A', '0']\n",
    "requests = pd.read_csv('university /data/311-service-requests.csv', na_values=na_values, dtype={'Incident Zip': str})"
   ],
   "id": "63f2e72aa5df166e"
  },
  {
   "metadata": {},
   "cell_type": "code",
   "outputs": [],
   "execution_count": null,
   "source": "requests['Incident Zip'].unique()",
   "id": "b7a4c8b60deda96e"
  },
  {
   "metadata": {},
   "cell_type": "code",
   "outputs": [],
   "execution_count": null,
   "source": [
    "rows_with_dashes = requests['Incident Zip'].str.contains('-').fillna(False)\n",
    "len(requests[rows_with_dashes])"
   ],
   "id": "df2d987119dce22"
  },
  {
   "metadata": {},
   "cell_type": "code",
   "outputs": [],
   "execution_count": null,
   "source": "requests[rows_with_dashes]['Incident Zip']",
   "id": "ce88fb19535ab4dc"
  },
  {
   "metadata": {
    "ExecuteTime": {
     "end_time": "2024-09-07T09:41:40.457266Z",
     "start_time": "2024-09-07T09:41:40.442819Z"
    }
   },
   "cell_type": "code",
   "source": [
    "long_zip_codes = requests['Incident Zip'].str.len() > 5\n",
    "requests['Incident Zip'][long_zip_codes].unique()"
   ],
   "id": "c989e4132e7ffd7e",
   "outputs": [
    {
     "ename": "NameError",
     "evalue": "name 'requests' is not defined",
     "output_type": "error",
     "traceback": [
      "\u001B[0;31m---------------------------------------------------------------------------\u001B[0m",
      "\u001B[0;31mNameError\u001B[0m                                 Traceback (most recent call last)",
      "Cell \u001B[0;32mIn[4], line 1\u001B[0m\n\u001B[0;32m----> 1\u001B[0m long_zip_codes \u001B[38;5;241m=\u001B[39m \u001B[43mrequests\u001B[49m[\u001B[38;5;124m'\u001B[39m\u001B[38;5;124mIncident Zip\u001B[39m\u001B[38;5;124m'\u001B[39m]\u001B[38;5;241m.\u001B[39mstr\u001B[38;5;241m.\u001B[39mlen() \u001B[38;5;241m>\u001B[39m \u001B[38;5;241m5\u001B[39m\n\u001B[1;32m      2\u001B[0m requests[\u001B[38;5;124m'\u001B[39m\u001B[38;5;124mIncident Zip\u001B[39m\u001B[38;5;124m'\u001B[39m][long_zip_codes]\u001B[38;5;241m.\u001B[39munique()\n",
      "\u001B[0;31mNameError\u001B[0m: name 'requests' is not defined"
     ]
    }
   ],
   "execution_count": 4
  },
  {
   "metadata": {},
   "cell_type": "code",
   "outputs": [],
   "execution_count": null,
   "source": "requests['Incident Zip'] = requests['Incident Zip'].str.slice(0, 5)",
   "id": "2d5178888c09acce"
  },
  {
   "metadata": {},
   "cell_type": "code",
   "outputs": [],
   "execution_count": null,
   "source": "requests[requests['Incident Zip'] == '00000']",
   "id": "9a5157c30324d2c5"
  },
  {
   "metadata": {},
   "cell_type": "code",
   "outputs": [],
   "execution_count": null,
   "source": [
    "zero_zips = requests['Incident Zip'] == '00000' \n",
    "requests.loc[zero_zips, 'Incident Zip'] = np.nan"
   ],
   "id": "8e78f3a6c0481beb"
  },
  {
   "metadata": {
    "ExecuteTime": {
     "end_time": "2024-09-07T09:42:08.528444Z",
     "start_time": "2024-09-07T09:42:08.523872Z"
    }
   },
   "cell_type": "code",
   "source": [
    "unique_zips = requests['Incident Zip'].unique() \n",
    "unique_zips"
   ],
   "id": "11575725be7619a9",
   "outputs": [
    {
     "ename": "SyntaxError",
     "evalue": "invalid syntax (4245059672.py, line 1)",
     "output_type": "error",
     "traceback": [
      "\u001B[0;36m  Cell \u001B[0;32mIn[5], line 1\u001B[0;36m\u001B[0m\n\u001B[0;31m    unique_zips = requests['Incident Zip'].unique() unique_zips\u001B[0m\n\u001B[0m                                                    ^\u001B[0m\n\u001B[0;31mSyntaxError\u001B[0m\u001B[0;31m:\u001B[0m invalid syntax\n"
     ]
    }
   ],
   "execution_count": 5
  },
  {
   "metadata": {},
   "cell_type": "code",
   "outputs": [],
   "execution_count": null,
   "source": [
    "zips = requests['Incident Zip']\n",
    "# Let's say the zips starting with '0' and '1' are okay, for now. (this isn't actually true -- 13221 is in Syracuse, and why?)\n",
    "is_close = zips.str.startswith('0') | zips.str.startswith('1')\n",
    "# There are a bunch of NaNs, but we're not interested in them right now, so we'll say they're False\n",
    "is_far = ~(is_close) & zips.notnull()"
   ],
   "id": "264056e91cfe6595"
  },
  {
   "metadata": {},
   "cell_type": "code",
   "outputs": [],
   "execution_count": null,
   "source": "requests[is_far][['Incident Zip', 'Descriptor', 'City']].sort_values('Incident Zip')",
   "id": "4895edf4c8c48f7d"
  },
  {
   "metadata": {},
   "cell_type": "code",
   "outputs": [],
   "execution_count": null,
   "source": "requests['City'].str.upper().value_counts()",
   "id": "bde46bfb629fabe7"
  },
  {
   "metadata": {},
   "cell_type": "code",
   "outputs": [],
   "execution_count": null,
   "source": "",
   "id": "dea972752e7bdf4c"
  }
 ],
 "metadata": {
  "kernelspec": {
   "display_name": "Python 3",
   "language": "python",
   "name": "python3"
  },
  "language_info": {
   "codemirror_mode": {
    "name": "ipython",
    "version": 2
   },
   "file_extension": ".py",
   "mimetype": "text/x-python",
   "name": "python",
   "nbconvert_exporter": "python",
   "pygments_lexer": "ipython2",
   "version": "2.7.6"
  }
 },
 "nbformat": 4,
 "nbformat_minor": 5
}
