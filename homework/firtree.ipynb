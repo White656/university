{
 "cells": [
  {
   "cell_type": "code",
   "id": "initial_id",
   "metadata": {
    "collapsed": true
   },
   "source": [
    "import pandas as pd  # импорт необходимых библиотек для работы с данными\n",
    "import matplotlib.pyplot as plt\n",
    "import numpy as np\n",
    "\n",
    "pd.options.display.max_rows = 15  # максимальное количество строк, которые мы будем отображать\n",
    "pd.options.display.float_format = '{:.2f}'.format  # задаем формат числ с плавающей точкой\n",
    "pd.options.display.precision = 3  # количество знаком после запятой после вывода числа\n",
    "pd.options.display.memory_usage = 'deep'  # выводим информацию по использованию памяти\n",
    "\n",
    "plt.style.use('classic')  # выбираем стиль \n",
    "# plt.style.available # - доступные стили\n"
   ],
   "outputs": [],
   "execution_count": null
  },
  {
   "metadata": {},
   "cell_type": "code",
   "source": [
    "tree = pd.read_csv('data/firtree.csv', sep=',', encoding='utf-8')  # вычитываем данные из csv и кладем в dataframe\n",
    "tree['wish'] = tree['wish'].map({'да': True, 'нет': False})  # бинаризуем данные в wish"
   ],
   "id": "4b5b373955c6d1e2",
   "outputs": [],
   "execution_count": null
  },
  {
   "metadata": {},
   "cell_type": "code",
   "source": "tree.loc[tree['expenses'] > 1500]  # получаем все, кто предложил более 1500 рублей",
   "id": "11b90c3382bf90aa",
   "outputs": [],
   "execution_count": null
  },
  {
   "metadata": {},
   "cell_type": "code",
   "source": "tree.loc[(tree['expenses'] > 1500) & (tree['wish'])]  # кто согласен купить за цену, свыше 1500",
   "id": "950df5a5236b75ee",
   "outputs": [],
   "execution_count": null
  },
  {
   "metadata": {},
   "cell_type": "code",
   "source": [
    "tree2 = tree.copy()  # делаем копию, чтобы не изменять оригинал\n",
    "tree2[['first', 'second']] = tree['ftype'].str.split(' ',\n",
    "                                                     expand=True)  # разбиваем ftype на 2(по заданию) и переименонвывам \n",
    "tree2 = tree2.drop(columns=['ftype'])  # убираем старый стоблец\n",
    "tree2  # выводим"
   ],
   "id": "cd8be9691968c9f1",
   "outputs": [],
   "execution_count": null
  },
  {
   "metadata": {},
   "cell_type": "code",
   "source": [
    "new_dt = tree.copy()  # опять копия\n",
    "new_data = new_dt[['gender', 'score', 'expenses']]  # получаем только нужные для нас данные \n",
    "new_data.columns = ['пол', 'счет', 'цена']  # переименуем\n",
    "new_data  # выводим "
   ],
   "id": "797fef09a8e52388",
   "outputs": [],
   "execution_count": null
  },
  {
   "metadata": {},
   "cell_type": "code",
   "source": [
    "tree['height_m'] = tree['height'] / 100  # переводим см в м\n",
    "tree  # выводим"
   ],
   "id": "34af8d943b8b97d3",
   "outputs": [],
   "execution_count": null
  },
  {
   "metadata": {},
   "cell_type": "code",
   "source": [
    "def trans_comm(score_value: int) -> str:  # функция для комментария\n",
    "    return f\"Комментарий для score равному: {score_value}\"\n",
    "\n",
    "\n",
    "tree['comment'] = trans_comm(tree['score'])  # пишем комментарий\n"
   ],
   "id": "4480f678441ed0ae",
   "outputs": [],
   "execution_count": null
  },
  {
   "metadata": {},
   "cell_type": "code",
   "source": [
    "tree.dropna()  # убираем все, что пустое \n",
    "tree  # выводим"
   ],
   "id": "9854e2425d313e31",
   "outputs": [],
   "execution_count": null
  },
  {
   "metadata": {},
   "cell_type": "code",
   "source": [
    "tree['female'] = tree['gender'].map({'female': 1, 'male': 0})  # по заданию\n",
    "tree"
   ],
   "id": "4b5e59e4fedabdfe",
   "outputs": [],
   "execution_count": null
  },
  {
   "metadata": {},
   "cell_type": "code",
   "source": [
    "numeric_tree = tree.select_dtypes(include=[float, int])  # убираем все, что не числа\n",
    "result = tree.groupby('ftype')[numeric_tree.columns].mean()  # считаем среднее для каждого ЧИСЛОВОГО стоблца\n",
    "result  # выводим"
   ],
   "id": "38936324987d8a0a",
   "outputs": [],
   "execution_count": null
  }
 ],
 "metadata": {
  "kernelspec": {
   "display_name": "Python 3",
   "language": "python",
   "name": "python3"
  },
  "language_info": {
   "codemirror_mode": {
    "name": "ipython",
    "version": 2
   },
   "file_extension": ".py",
   "mimetype": "text/x-python",
   "name": "python",
   "nbconvert_exporter": "python",
   "pygments_lexer": "ipython2",
   "version": "2.7.6"
  }
 },
 "nbformat": 4,
 "nbformat_minor": 5
}
